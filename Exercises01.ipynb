{
 "cells": [
  {
   "cell_type": "markdown",
   "metadata": {},
   "source": [
    "1.\tTemperature Converter: Write a   program that takes the input temperature in Celsius and converts it to Fahrenheit. Output the temperature in Fahrenheit. If the user enters a negative value, print an error message."
   ]
  },
  {
   "cell_type": "code",
   "execution_count": null,
   "metadata": {},
   "outputs": [],
   "source": []
  },
  {
   "cell_type": "markdown",
   "metadata": {},
   "source": [
    "2.\tGrade Calculator: Create a   program that prompts the user to enter their marks in 3 subjects and finds the average of their marks"
   ]
  },
  {
   "cell_type": "code",
   "execution_count": 1,
   "metadata": {},
   "outputs": [
    {
     "name": "stdout",
     "output_type": "stream",
     "text": [
      "The result is:  48.0\n"
     ]
    }
   ],
   "source": [
    "x = input(\"Enter the first number: \")\n",
    "x = float (x)\n",
    "y = input (\"Enter the second number: \")\n",
    "y = float (y)\n",
    "z = input (\"Enter the third number: \")\n",
    "z = float (z)\n",
    "r = (x+y+z)/3\n",
    "print (\"The result is: \", r)"
   ]
  },
  {
   "cell_type": "markdown",
   "metadata": {},
   "source": [
    "3.\tLargest Number: Write a   program that takes three numbers as input and determines which one is the largest. Output the largest number. "
   ]
  },
  {
   "cell_type": "code",
   "execution_count": 7,
   "metadata": {},
   "outputs": [
    {
     "name": "stdout",
     "output_type": "stream",
     "text": [
      "the large number is :\n"
     ]
    }
   ],
   "source": [
    "x = input(\"Enter the first number: \")\n",
    "x = float (x)\n",
    "y = input (\"Enter the second number: \")\n",
    "y = float (y)\n",
    "z = input (\"Enter the third number: \")\n",
    "z = float (z)\n",
    "if x>=y and x>=z:\n",
    "    large =x\n",
    "elif y>=x and y>=z:\n",
    "     large =y\n",
    "else:\n",
    "    large =z\n",
    "print (\"the large number is :\")\n"
   ]
  },
  {
   "cell_type": "markdown",
   "metadata": {},
   "source": [
    "4.\tEven or Odd: Create a   program that reads an integer from the user and checks if it's even or odd. Output \"Even\" or \"Odd\" accordingly."
   ]
  },
  {
   "cell_type": "code",
   "execution_count": 4,
   "metadata": {},
   "outputs": [
    {
     "name": "stdout",
     "output_type": "stream",
     "text": [
      "The number  2  is even\n"
     ]
    }
   ],
   "source": [
    "x = input(\"Enter a Number: \")\n",
    "x = int(x)\n",
    "if x%2 == 0:\n",
    "    print (\"The number \", x , \" is even\")\n",
    "else:\n",
    "    print (\"The number \", x , \" is odd \")"
   ]
  },
  {
   "cell_type": "markdown",
   "metadata": {},
   "source": [
    "5.\tLeap Year Checker: Write a   program that prompts the user to enter a year. Determine if the year is a leap year (divisible by 4, but not divisible by 100 unless also divisible by 400). Output \"Leap Year\" or \"Not a Leap Year.\""
   ]
  },
  {
   "cell_type": "code",
   "execution_count": null,
   "metadata": {},
   "outputs": [],
   "source": []
  },
  {
   "cell_type": "markdown",
   "metadata": {},
   "source": [
    "6.\tPositive, Negative, or Zero: Create a   program that reads a number from the user and checks whether it's positive, negative, or zero. Output \"Positive,\" \"Negative,\" or \"Zero\" accordingly."
   ]
  },
  {
   "cell_type": "code",
   "execution_count": 5,
   "metadata": {},
   "outputs": [
    {
     "name": "stdout",
     "output_type": "stream",
     "text": [
      "The number  6  is positive\n"
     ]
    }
   ],
   "source": [
    "x = input(\"Enter a Number: \")\n",
    "x = int(x)\n",
    "if x > 0:\n",
    "    print (\"The number \", x , \" is positive\")\n",
    "elif x < 0:\n",
    "    print (\"The number \", x , \" is Negative\")\n",
    "else:\n",
    "    print (\"The number \", x , \" is zero\")"
   ]
  },
  {
   "cell_type": "markdown",
   "metadata": {},
   "source": [
    "7.\tCalculator: Write a   program that acts as a simple calculator. It should take two numbers and an operator (+, -, *, /) as input and perform the corresponding "
   ]
  },
  {
   "cell_type": "code",
   "execution_count": 9,
   "metadata": {},
   "outputs": [
    {
     "name": "stdout",
     "output_type": "stream",
     "text": [
      "the result is 12.0 -4.0 32.0 0.5\n"
     ]
    }
   ],
   "source": [
    "x = input(\"Enter the first number: \")\n",
    "x = float (x)\n",
    "y = input (\"Enter the second number: \")\n",
    "y = float (y)\n",
    "Add=x+y\n",
    "Sub=x-y\n",
    "Mul=x*y\n",
    "Div=x/y\n",
    "print (\"the result is\", Add , Sub , Mul ,Div)"
   ]
  },
  {
   "cell_type": "markdown",
   "metadata": {},
   "source": [
    "8.\tUsername and Password Checker: Create a program that asks the user to enter a username and password. If the username is \"admin\" and the password is \"password123,\" print \"Access granted.\" Otherwise, print \"Access denied.\""
   ]
  },
  {
   "cell_type": "code",
   "execution_count": null,
   "metadata": {},
   "outputs": [],
   "source": [
    "username = input(\"Enter your name: \")\n",
    "print( username)\n",
    "password = input(\"Enter your name: \")\n",
    "print( password)\n",
    "\n",
    "\n"
   ]
  }
 ],
 "metadata": {
  "kernelspec": {
   "display_name": "Python 3",
   "language": "python",
   "name": "python3"
  },
  "language_info": {
   "codemirror_mode": {
    "name": "ipython",
    "version": 3
   },
   "file_extension": ".py",
   "mimetype": "text/x-python",
   "name": "python",
   "nbconvert_exporter": "python",
   "pygments_lexer": "ipython3",
   "version": "3.10.8"
  }
 },
 "nbformat": 4,
 "nbformat_minor": 2
}
